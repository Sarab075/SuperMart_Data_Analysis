{
 "cells": [
  {
   "cell_type": "code",
   "execution_count": 1,
   "id": "a3703390-e8f2-4714-a55d-08d703b53220",
   "metadata": {},
   "outputs": [],
   "source": [
    "import pandas as pd\n",
    "import numpy as np\n",
    "import matplotlib.pyplot as plt\n"
   ]
  },
  {
   "cell_type": "code",
   "execution_count": 18,
   "id": "7ab1899c-32e9-41a1-bb02-3c3f65e880f1",
   "metadata": {},
   "outputs": [],
   "source": [
    "df= pd.read_csv('supermart_final.csv')"
   ]
  },
  {
   "cell_type": "code",
   "execution_count": 20,
   "id": "968a52c2-efd3-426b-bb66-6c01be05f908",
   "metadata": {},
   "outputs": [
    {
     "name": "stdout",
     "output_type": "stream",
     "text": [
      "Initial Data Overview:\n",
      "    invoice_id branch       city customer_type  gender  \\\n",
      "0  750-67-8428      A     Yangon        Member  Female   \n",
      "1  226-31-3081      C  Naypyitaw        Normal  Female   \n",
      "2  631-41-3108      A     Yangon        Normal    Male   \n",
      "3  123-19-1176      A     Yangon        Member    Male   \n",
      "4  373-73-7910      A     Yangon        Normal    Male   \n",
      "\n",
      "             product_line  unit_price  quantity   tax_5%     total  \\\n",
      "0       Health And Beauty       74.69         7  26.1415  548.9715   \n",
      "1  Electronic Accessories       15.28         5   3.8200   80.2200   \n",
      "2      Home And Lifestyle       46.33         7  16.2155  340.5255   \n",
      "3       Health And Beauty       58.22         8  23.2880  489.0480   \n",
      "4       Sports And Travel       86.31         7  30.2085  634.3785   \n",
      "\n",
      "       payment    cogs  gross_margin_percentage  gross_income  rating  \\\n",
      "0      Ewallet  522.83                 4.761905       26.1415     9.1   \n",
      "1         Cash   76.40                 4.761905        3.8200     9.6   \n",
      "2  Credit Card  324.31                 4.761905       16.2155     7.4   \n",
      "3      Ewallet  465.76                 4.761905       23.2880     8.4   \n",
      "4      Ewallet  604.17                 4.761905       30.2085     5.3   \n",
      "\n",
      "             date_time  \n",
      "0  2019-01-05 13:08:00  \n",
      "1  2019-03-08 10:29:00  \n",
      "2  2019-03-03 13:23:00  \n",
      "3  2019-01-27 20:33:00  \n",
      "4  2019-02-08 10:37:00  \n",
      "\n",
      "Missing Values:\n",
      "invoice_id                  0\n",
      "branch                      0\n",
      "city                        0\n",
      "customer_type              47\n",
      "gender                     47\n",
      "product_line               47\n",
      "unit_price                  0\n",
      "quantity                    0\n",
      "tax_5%                      0\n",
      "total                      47\n",
      "payment                    47\n",
      "cogs                        0\n",
      "gross_margin_percentage     0\n",
      "gross_income                0\n",
      "rating                     47\n",
      "date_time                   0\n",
      "dtype: int64\n"
     ]
    }
   ],
   "source": [
    "print(\"Initial Data Overview:\")\n",
    "print(df.head())\n",
    "print(\"\\nMissing Values:\")\n",
    "print(df.isnull().sum())"
   ]
  },
  {
   "cell_type": "code",
   "execution_count": 23,
   "id": "ed1420cc-3ba9-4b7a-87c0-5e6230ba343d",
   "metadata": {},
   "outputs": [],
   "source": [
    "# 2. Handling Missing Data\n",
    "df.fillna({\n",
    "    \"customer_type\": \"Unknown\",\n",
    "    \"gender\": \"Unknown\",\n",
    "    \"product_line\": \"Miscellaneous\",\n",
    "    \"payment\": \"Unknown\",\n",
    "    \"total\": df[\"total\"].median(),\n",
    "    \"rating\": df[\"rating\"].median()\n",
    "}, inplace=True)"
   ]
  },
  {
   "cell_type": "code",
   "execution_count": 25,
   "id": "b4370293-462a-4210-a64b-258eba3d91cd",
   "metadata": {},
   "outputs": [],
   "source": [
    "# 3. Removing Duplicates\n",
    "df.drop_duplicates(inplace=True)"
   ]
  },
  {
   "cell_type": "code",
   "execution_count": 26,
   "id": "56800e28-941a-4af1-abf1-c49d1de3998d",
   "metadata": {},
   "outputs": [],
   "source": [
    "# 4. Standardizing Data Formats\n",
    "df[\"date_time\"] = pd.to_datetime(df[\"date_time\"], errors='coerce')"
   ]
  },
  {
   "cell_type": "code",
   "execution_count": 29,
   "id": "a3125c60-2252-4769-9370-763281f30c86",
   "metadata": {},
   "outputs": [],
   "source": [
    "# Convert categorical columns to string type\n",
    "df[\"customer_type\"] = df[\"customer_type\"].astype(\"string\").str.title()\n",
    "df[\"gender\"] = df[\"gender\"].astype(\"string\").str.title()\n",
    "df[\"product_line\"] = df[\"product_line\"].astype(\"string\").str.title()\n",
    "df[\"payment\"] = df[\"payment\"].astype(\"string\").str.title()\n",
    "df[\"total\"] = df[\"total\"].round(2)"
   ]
  },
  {
   "cell_type": "code",
   "execution_count": 30,
   "id": "e1c81331-bbeb-4763-9ff1-44c510fdbe91",
   "metadata": {},
   "outputs": [
    {
     "name": "stdout",
     "output_type": "stream",
     "text": [
      "<class 'pandas.core.frame.DataFrame'>\n",
      "RangeIndex: 945 entries, 0 to 944\n",
      "Data columns (total 16 columns):\n",
      " #   Column                   Non-Null Count  Dtype         \n",
      "---  ------                   --------------  -----         \n",
      " 0   invoice_id               945 non-null    object        \n",
      " 1   branch                   945 non-null    object        \n",
      " 2   city                     945 non-null    object        \n",
      " 3   customer_type            945 non-null    string        \n",
      " 4   gender                   945 non-null    string        \n",
      " 5   product_line             945 non-null    string        \n",
      " 6   unit_price               945 non-null    float64       \n",
      " 7   quantity                 945 non-null    int64         \n",
      " 8   tax_5%                   945 non-null    float64       \n",
      " 9   total                    945 non-null    float64       \n",
      " 10  payment                  945 non-null    string        \n",
      " 11  cogs                     945 non-null    float64       \n",
      " 12  gross_margin_percentage  945 non-null    float64       \n",
      " 13  gross_income             945 non-null    float64       \n",
      " 14  rating                   945 non-null    float64       \n",
      " 15  date_time                945 non-null    datetime64[ns]\n",
      "dtypes: datetime64[ns](1), float64(7), int64(1), object(3), string(4)\n",
      "memory usage: 118.3+ KB\n"
     ]
    }
   ],
   "source": [
    "df.info()"
   ]
  },
  {
   "cell_type": "code",
   "execution_count": 31,
   "id": "38df28fe-d55d-4cce-8740-36168a69ae4a",
   "metadata": {},
   "outputs": [],
   "source": [
    "df.to_csv(\"supermart_cleaned.csv\")"
   ]
  },
  {
   "cell_type": "code",
   "execution_count": null,
   "id": "375b5e8f-23d5-481e-99a8-676744ef4331",
   "metadata": {},
   "outputs": [],
   "source": []
  }
 ],
 "metadata": {
  "kernelspec": {
   "display_name": "Python 3 (ipykernel)",
   "language": "python",
   "name": "python3"
  },
  "language_info": {
   "codemirror_mode": {
    "name": "ipython",
    "version": 3
   },
   "file_extension": ".py",
   "mimetype": "text/x-python",
   "name": "python",
   "nbconvert_exporter": "python",
   "pygments_lexer": "ipython3",
   "version": "3.11.8"
  }
 },
 "nbformat": 4,
 "nbformat_minor": 5
}
